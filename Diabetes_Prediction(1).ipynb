{
  "nbformat": 4,
  "nbformat_minor": 0,
  "metadata": {
    "colab": {
      "name": "Diabetes Prediction.ipynb",
      "provenance": [],
      "collapsed_sections": [
        "1lMOV8JOrCl4",
        "p_6Rtj2GAk5y",
        "KgW6s984rNI-",
        "zoGt197fJX1J",
        "cIIsWYlfJ18C",
        "eoY0SUGuLpMp",
        "l5iAZjU9MYWv",
        "AHgH-oe2bhbx",
        "Od0WeigDeaNC",
        "HzIKu9qPe9yq",
        "W03Ew02CfbLi",
        "V1CPd_HFgRng",
        "sENAYIpFg4Xx"
      ]
    },
    "kernelspec": {
      "name": "python3",
      "display_name": "Python 3"
    },
    "language_info": {
      "name": "python"
    },
    "accelerator": "GPU"
  },
  "cells": [
    {
      "cell_type": "markdown",
      "metadata": {
        "id": "1lMOV8JOrCl4"
      },
      "source": [
        "# Data Engineer"
      ]
    },
    {
      "cell_type": "markdown",
      "metadata": {
        "id": "p_6Rtj2GAk5y"
      },
      "source": [
        "## Bağlantı"
      ]
    },
    {
      "cell_type": "code",
      "metadata": {
        "colab": {
          "base_uri": "https://localhost:8080/"
        },
        "id": "6QpN7bAc_MjS",
        "outputId": "8b8287a9-26fb-402b-bc59-f4af4cb9e8e6"
      },
      "source": [
        "!apt-get install -y -qq software-properties-common python-software-properties module-init-tools\n",
        "!add-apt-repository -y ppa:alessandro-strada/ppa 2>&1 > /dev/null\n",
        "!apt-get update -qq 2>&1 > /dev/null\n",
        "!apt-get -y install -qq google-drive-ocamlfuse fuse\n",
        "from google.colab import auth\n",
        "auth.authenticate_user()\n",
        "from oauth2client.client import GoogleCredentials\n",
        "creds = GoogleCredentials.get_application_default()\n",
        "import getpass\n",
        "!google-drive-ocamlfuse -headless -id={creds.client_id} -secret={creds.client_secret} < /dev/null 2>&1 | grep URL\n",
        "vcode = getpass.getpass()\n",
        "!echo {vcode} | google-drive-ocamlfuse -headless -id={creds.client_id} -secret={creds.client_secret}"
      ],
      "execution_count": null,
      "outputs": [
        {
          "output_type": "stream",
          "name": "stdout",
          "text": [
            "E: Package 'python-software-properties' has no installation candidate\n",
            "Selecting previously unselected package google-drive-ocamlfuse.\n",
            "(Reading database ... 155219 files and directories currently installed.)\n",
            "Preparing to unpack .../google-drive-ocamlfuse_0.7.27-0ubuntu1~ubuntu18.04.1_amd64.deb ...\n",
            "Unpacking google-drive-ocamlfuse (0.7.27-0ubuntu1~ubuntu18.04.1) ...\n",
            "Setting up google-drive-ocamlfuse (0.7.27-0ubuntu1~ubuntu18.04.1) ...\n",
            "Processing triggers for man-db (2.8.3-2ubuntu0.1) ...\n",
            "Please, open the following URL in a web browser: https://accounts.google.com/o/oauth2/auth?client_id=32555940559.apps.googleusercontent.com&redirect_uri=urn%3Aietf%3Awg%3Aoauth%3A2.0%3Aoob&scope=https%3A%2F%2Fwww.googleapis.com%2Fauth%2Fdrive&response_type=code&access_type=offline&approval_prompt=force\n",
            "··········\n",
            "Please, open the following URL in a web browser: https://accounts.google.com/o/oauth2/auth?client_id=32555940559.apps.googleusercontent.com&redirect_uri=urn%3Aietf%3Awg%3Aoauth%3A2.0%3Aoob&scope=https%3A%2F%2Fwww.googleapis.com%2Fauth%2Fdrive&response_type=code&access_type=offline&approval_prompt=force\n",
            "Please enter the verification code: Access token retrieved correctly.\n"
          ]
        }
      ]
    },
    {
      "cell_type": "code",
      "metadata": {
        "colab": {
          "base_uri": "https://localhost:8080/"
        },
        "id": "rUeMI2tS_Xax",
        "outputId": "31e3a6d9-5018-47f3-8216-84c25f5a89bb"
      },
      "source": [
        "!mkdir -p drive\n",
        "!google-drive-ocamlfuse drive\n",
        "!ls"
      ],
      "execution_count": null,
      "outputs": [
        {
          "output_type": "stream",
          "name": "stdout",
          "text": [
            "adc.json  drive  sample_data\n"
          ]
        }
      ]
    },
    {
      "cell_type": "markdown",
      "metadata": {
        "id": "I9vb4L2C3TK-"
      },
      "source": [
        "## Modul"
      ]
    },
    {
      "cell_type": "code",
      "metadata": {
        "id": "BKsSY_EG3WDA"
      },
      "source": [
        "import pandas as pd\n",
        "import numpy as np\n",
        "import seaborn as sns\n",
        "import matplotlib.pyplot as plt\n",
        "import warnings\n",
        "warnings.filterwarnings('ignore')"
      ],
      "execution_count": null,
      "outputs": []
    },
    {
      "cell_type": "markdown",
      "metadata": {
        "id": "R4zXICRl5tHE"
      },
      "source": [
        "## Dataset import"
      ]
    },
    {
      "cell_type": "code",
      "metadata": {
        "colab": {
          "base_uri": "https://localhost:8080/"
        },
        "id": "mjmb4W2QAuNy",
        "outputId": "52405994-fd85-41c6-b611-bcd7d4128301"
      },
      "source": [
        "df = pd.read_csv('/content/drive/Colab Notebooks/diabetes/data.csv')\n",
        "df.head()"
      ],
      "execution_count": null,
      "outputs": [
        {
          "output_type": "execute_result",
          "data": {
            "text/html": [
              "<div>\n",
              "<style scoped>\n",
              "    .dataframe tbody tr th:only-of-type {\n",
              "        vertical-align: middle;\n",
              "    }\n",
              "\n",
              "    .dataframe tbody tr th {\n",
              "        vertical-align: top;\n",
              "    }\n",
              "\n",
              "    .dataframe thead th {\n",
              "        text-align: right;\n",
              "    }\n",
              "</style>\n",
              "<table border=\"1\" class=\"dataframe\">\n",
              "  <thead>\n",
              "    <tr style=\"text-align: right;\">\n",
              "      <th></th>\n",
              "      <th>Pregnancies</th>\n",
              "      <th>Glucose</th>\n",
              "      <th>BloodPressure</th>\n",
              "      <th>SkinThickness</th>\n",
              "      <th>Insulin</th>\n",
              "      <th>BMI</th>\n",
              "      <th>DiabetesPedigreeFunction</th>\n",
              "      <th>Age</th>\n",
              "      <th>Outcome</th>\n",
              "    </tr>\n",
              "  </thead>\n",
              "  <tbody>\n",
              "    <tr>\n",
              "      <th>0</th>\n",
              "      <td>6</td>\n",
              "      <td>148</td>\n",
              "      <td>72</td>\n",
              "      <td>35</td>\n",
              "      <td>0</td>\n",
              "      <td>33.6</td>\n",
              "      <td>0.627</td>\n",
              "      <td>50</td>\n",
              "      <td>1</td>\n",
              "    </tr>\n",
              "    <tr>\n",
              "      <th>1</th>\n",
              "      <td>1</td>\n",
              "      <td>85</td>\n",
              "      <td>66</td>\n",
              "      <td>29</td>\n",
              "      <td>0</td>\n",
              "      <td>26.6</td>\n",
              "      <td>0.351</td>\n",
              "      <td>31</td>\n",
              "      <td>0</td>\n",
              "    </tr>\n",
              "    <tr>\n",
              "      <th>2</th>\n",
              "      <td>8</td>\n",
              "      <td>183</td>\n",
              "      <td>64</td>\n",
              "      <td>0</td>\n",
              "      <td>0</td>\n",
              "      <td>23.3</td>\n",
              "      <td>0.672</td>\n",
              "      <td>32</td>\n",
              "      <td>1</td>\n",
              "    </tr>\n",
              "    <tr>\n",
              "      <th>3</th>\n",
              "      <td>1</td>\n",
              "      <td>89</td>\n",
              "      <td>66</td>\n",
              "      <td>23</td>\n",
              "      <td>94</td>\n",
              "      <td>28.1</td>\n",
              "      <td>0.167</td>\n",
              "      <td>21</td>\n",
              "      <td>0</td>\n",
              "    </tr>\n",
              "    <tr>\n",
              "      <th>4</th>\n",
              "      <td>0</td>\n",
              "      <td>137</td>\n",
              "      <td>40</td>\n",
              "      <td>35</td>\n",
              "      <td>168</td>\n",
              "      <td>43.1</td>\n",
              "      <td>2.288</td>\n",
              "      <td>33</td>\n",
              "      <td>1</td>\n",
              "    </tr>\n",
              "  </tbody>\n",
              "</table>\n",
              "</div>"
            ],
            "text/plain": [
              "   Pregnancies  Glucose  BloodPressure  ...  DiabetesPedigreeFunction  Age  Outcome\n",
              "0            6      148             72  ...                     0.627   50        1\n",
              "1            1       85             66  ...                     0.351   31        0\n",
              "2            8      183             64  ...                     0.672   32        1\n",
              "3            1       89             66  ...                     0.167   21        0\n",
              "4            0      137             40  ...                     2.288   33        1\n",
              "\n",
              "[5 rows x 9 columns]"
            ]
          },
          "metadata": {},
          "execution_count": 4
        }
      ]
    },
    {
      "cell_type": "markdown",
      "metadata": {
        "id": "KgW6s984rNI-"
      },
      "source": [
        "# Data analysis"
      ]
    },
    {
      "cell_type": "markdown",
      "metadata": {
        "id": "im1K7exY6v4c"
      },
      "source": [
        "## Explorer datasets"
      ]
    },
    {
      "cell_type": "code",
      "metadata": {
        "id": "uq4kyFoD61Qc"
      },
      "source": [
        "df.shape"
      ],
      "execution_count": null,
      "outputs": []
    },
    {
      "cell_type": "code",
      "metadata": {
        "id": "NEawRmvO66b3"
      },
      "source": [
        "df.dtypes"
      ],
      "execution_count": null,
      "outputs": []
    },
    {
      "cell_type": "code",
      "metadata": {
        "id": "mKe-JPrR7Ayh"
      },
      "source": [
        "df.info()"
      ],
      "execution_count": null,
      "outputs": []
    },
    {
      "cell_type": "markdown",
      "metadata": {
        "id": "djh8x83q9G06"
      },
      "source": [
        "### Statistical summary"
      ]
    },
    {
      "cell_type": "code",
      "metadata": {
        "id": "DVQQSddG9NVB"
      },
      "source": [
        "df.describe()"
      ],
      "execution_count": null,
      "outputs": []
    },
    {
      "cell_type": "markdown",
      "metadata": {
        "id": "bDl4W0rY9Yhu"
      },
      "source": [
        "## Data Cleaning"
      ]
    },
    {
      "cell_type": "code",
      "metadata": {
        "id": "RVSpMpNf9dTN"
      },
      "source": [
        "df.shape"
      ],
      "execution_count": null,
      "outputs": []
    },
    {
      "cell_type": "code",
      "metadata": {
        "id": "BeTEUYPq9g7R"
      },
      "source": [
        "df=df.drop_duplicates()"
      ],
      "execution_count": null,
      "outputs": []
    },
    {
      "cell_type": "code",
      "metadata": {
        "id": "cCn0UFQo9muB"
      },
      "source": [
        "df.shape"
      ],
      "execution_count": null,
      "outputs": []
    },
    {
      "cell_type": "markdown",
      "metadata": {
        "id": "XYiD_51d9s8m"
      },
      "source": [
        "### Find the null values "
      ]
    },
    {
      "cell_type": "code",
      "metadata": {
        "id": "oJoWLvEC90b_"
      },
      "source": [
        "df.isnull().sum()"
      ],
      "execution_count": null,
      "outputs": []
    },
    {
      "cell_type": "code",
      "metadata": {
        "id": "pqV0qtsC98Si"
      },
      "source": [
        "df.columns "
      ],
      "execution_count": null,
      "outputs": []
    },
    {
      "cell_type": "markdown",
      "metadata": {
        "id": "bhFZrENj-FJq"
      },
      "source": [
        "### Check the no of zero values in dataset"
      ]
    },
    {
      "cell_type": "code",
      "metadata": {
        "id": "BXH57FWf-OQo"
      },
      "source": [
        "print('No. of zero values in Glucose',df[df['Glucose']==0].shape[0]) "
      ],
      "execution_count": null,
      "outputs": []
    },
    {
      "cell_type": "code",
      "metadata": {
        "id": "K0FMd1yS-i-b"
      },
      "source": [
        "print('No. of zero values in BloodPressure',df[df['BloodPressure']==0].shape[0])"
      ],
      "execution_count": null,
      "outputs": []
    },
    {
      "cell_type": "code",
      "metadata": {
        "id": "5uLw7TOO-jKg"
      },
      "source": [
        "print('No. of zero values in SkinThickness',df[df['SkinThickness']==0].shape[0])"
      ],
      "execution_count": null,
      "outputs": []
    },
    {
      "cell_type": "code",
      "metadata": {
        "id": "NyJNYcIf-jNw"
      },
      "source": [
        "print('No. of zero values in Insulin',df[df['Insulin']==0].shape[0])"
      ],
      "execution_count": null,
      "outputs": []
    },
    {
      "cell_type": "code",
      "metadata": {
        "id": "HMP2GN7n-jRI"
      },
      "source": [
        "print('No. of zero values in BMI',df[df['BMI']==0].shape[0])"
      ],
      "execution_count": null,
      "outputs": []
    },
    {
      "cell_type": "markdown",
      "metadata": {
        "id": "9YVx43yq_A_R"
      },
      "source": [
        "### Replace no of zero vallues with mean of that columns"
      ]
    },
    {
      "cell_type": "code",
      "metadata": {
        "id": "Zz4_tssSEei0"
      },
      "source": [
        "df.columns"
      ],
      "execution_count": null,
      "outputs": []
    },
    {
      "cell_type": "code",
      "metadata": {
        "id": "xcljKTZF-jUM"
      },
      "source": [
        "df['Glucose']=df['Glucose'].replace(0,df['Glucose'].mean())\n",
        "print('No. of zero values in Glucose', df[df['Glucose']==0].shape[0])"
      ],
      "execution_count": null,
      "outputs": []
    },
    {
      "cell_type": "code",
      "metadata": {
        "id": "VvvBGTqC_JmD"
      },
      "source": [
        "df['BloodPressure']=df['BloodPressure'].replace(0,df['BloodPressure'].mean())\n",
        "df['SkinThickness']=df['SkinThickness'].replace(0,df['SkinThickness'].mean())\n",
        "df['Insulin']=df['Insulin'].replace(0,df['Insulin'].mean())\n",
        "df['BMI']=df['BMI'].replace(0,df['BMI'].mean())"
      ],
      "execution_count": null,
      "outputs": []
    },
    {
      "cell_type": "code",
      "metadata": {
        "id": "Xqq_piT-FNwN"
      },
      "source": [
        "df.describe()"
      ],
      "execution_count": null,
      "outputs": []
    },
    {
      "cell_type": "markdown",
      "metadata": {
        "id": "brezmbDfFShm"
      },
      "source": [
        "## Data Visualization"
      ]
    },
    {
      "cell_type": "code",
      "metadata": {
        "id": "GzWifKUuFYLL"
      },
      "source": [
        "f,ax=plt.subplots(1,2,figsize=(15,10))\n",
        "df['Outcome'].value_counts().plot.pie(explode=[0,0.1],autopct='%1.1f%%',ax=ax[0],shadow=True)\n",
        "ax[0].set_title('Outcome')\n",
        "ax[0].set_ylabel('')\n",
        "sns.countplot('Outcome',data=df,ax=ax[1])\n",
        "ax[1].set_title('Outcome')\n",
        "N,P = df['Outcome'].value_counts()\n",
        "print('Negative (0): ', N)\n",
        "print('Positive (1): ',P)\n",
        "plt.grid()\n",
        "plt.show()"
      ],
      "execution_count": null,
      "outputs": []
    },
    {
      "cell_type": "markdown",
      "metadata": {
        "id": "zTf6I9zGHKBa"
      },
      "source": [
        "### Histograms"
      ]
    },
    {
      "cell_type": "code",
      "metadata": {
        "id": "t2jwnTxYHN2M"
      },
      "source": [
        "df.hist(bins=10,figsize=(10,10))\n",
        "plt.show()"
      ],
      "execution_count": null,
      "outputs": []
    },
    {
      "cell_type": "markdown",
      "metadata": {
        "id": "nKgyc9YRHkAO"
      },
      "source": [
        "### Scatter plot"
      ]
    },
    {
      "cell_type": "code",
      "metadata": {
        "id": "U54sujGBHnAW"
      },
      "source": [
        "from pandas.plotting import scatter_matrix\n",
        "scatter_matrix(df, figsize=(20,20));"
      ],
      "execution_count": null,
      "outputs": []
    },
    {
      "cell_type": "markdown",
      "metadata": {
        "id": "NsFs782lH63b"
      },
      "source": [
        "### Pairplot"
      ]
    },
    {
      "cell_type": "code",
      "metadata": {
        "id": "Tsq4S8bbH5zl"
      },
      "source": [
        "sns.pairplot(data=df, hue='Outcome')\n",
        "plt.show()"
      ],
      "execution_count": null,
      "outputs": []
    },
    {
      "cell_type": "markdown",
      "metadata": {
        "id": "2Knt_3TVIT3H"
      },
      "source": [
        "### Analyzing relationships between variables"
      ]
    },
    {
      "cell_type": "code",
      "metadata": {
        "id": "2xesr_ZJIaU1"
      },
      "source": [
        "corrmat = df.corr()\n",
        "top_corr_features = corrmat.index\n",
        "plt.figure(figsize=(10,10))\n",
        "g=sns.heatmap(df[top_corr_features].corr(),annot=True,cmap='RdYlGn')"
      ],
      "execution_count": null,
      "outputs": []
    },
    {
      "cell_type": "markdown",
      "metadata": {
        "id": "ICYvyNymqnmg"
      },
      "source": [
        "# Data Science"
      ]
    },
    {
      "cell_type": "markdown",
      "metadata": {
        "id": "zoGt197fJX1J"
      },
      "source": [
        "## Split the data frame into X & y"
      ]
    },
    {
      "cell_type": "code",
      "metadata": {
        "id": "vSNKRWjhJd5D"
      },
      "source": [
        "target_name = 'Outcome'\n",
        "\n",
        "y= df[target_name]\n",
        "X= df.drop(target_name, axis=1)"
      ],
      "execution_count": null,
      "outputs": []
    },
    {
      "cell_type": "code",
      "metadata": {
        "colab": {
          "base_uri": "https://localhost:8080/"
        },
        "id": "7v3sG3jHJto0",
        "outputId": "52ac00bc-47a7-4fe8-c0e6-13c126bea2a3"
      },
      "source": [
        "X.head()"
      ],
      "execution_count": null,
      "outputs": [
        {
          "output_type": "execute_result",
          "data": {
            "text/html": [
              "<div>\n",
              "<style scoped>\n",
              "    .dataframe tbody tr th:only-of-type {\n",
              "        vertical-align: middle;\n",
              "    }\n",
              "\n",
              "    .dataframe tbody tr th {\n",
              "        vertical-align: top;\n",
              "    }\n",
              "\n",
              "    .dataframe thead th {\n",
              "        text-align: right;\n",
              "    }\n",
              "</style>\n",
              "<table border=\"1\" class=\"dataframe\">\n",
              "  <thead>\n",
              "    <tr style=\"text-align: right;\">\n",
              "      <th></th>\n",
              "      <th>Pregnancies</th>\n",
              "      <th>Glucose</th>\n",
              "      <th>BloodPressure</th>\n",
              "      <th>SkinThickness</th>\n",
              "      <th>Insulin</th>\n",
              "      <th>BMI</th>\n",
              "      <th>DiabetesPedigreeFunction</th>\n",
              "      <th>Age</th>\n",
              "    </tr>\n",
              "  </thead>\n",
              "  <tbody>\n",
              "    <tr>\n",
              "      <th>0</th>\n",
              "      <td>6</td>\n",
              "      <td>148</td>\n",
              "      <td>72</td>\n",
              "      <td>35</td>\n",
              "      <td>0</td>\n",
              "      <td>33.6</td>\n",
              "      <td>0.627</td>\n",
              "      <td>50</td>\n",
              "    </tr>\n",
              "    <tr>\n",
              "      <th>1</th>\n",
              "      <td>1</td>\n",
              "      <td>85</td>\n",
              "      <td>66</td>\n",
              "      <td>29</td>\n",
              "      <td>0</td>\n",
              "      <td>26.6</td>\n",
              "      <td>0.351</td>\n",
              "      <td>31</td>\n",
              "    </tr>\n",
              "    <tr>\n",
              "      <th>2</th>\n",
              "      <td>8</td>\n",
              "      <td>183</td>\n",
              "      <td>64</td>\n",
              "      <td>0</td>\n",
              "      <td>0</td>\n",
              "      <td>23.3</td>\n",
              "      <td>0.672</td>\n",
              "      <td>32</td>\n",
              "    </tr>\n",
              "    <tr>\n",
              "      <th>3</th>\n",
              "      <td>1</td>\n",
              "      <td>89</td>\n",
              "      <td>66</td>\n",
              "      <td>23</td>\n",
              "      <td>94</td>\n",
              "      <td>28.1</td>\n",
              "      <td>0.167</td>\n",
              "      <td>21</td>\n",
              "    </tr>\n",
              "    <tr>\n",
              "      <th>4</th>\n",
              "      <td>0</td>\n",
              "      <td>137</td>\n",
              "      <td>40</td>\n",
              "      <td>35</td>\n",
              "      <td>168</td>\n",
              "      <td>43.1</td>\n",
              "      <td>2.288</td>\n",
              "      <td>33</td>\n",
              "    </tr>\n",
              "  </tbody>\n",
              "</table>\n",
              "</div>"
            ],
            "text/plain": [
              "   Pregnancies  Glucose  BloodPressure  ...   BMI  DiabetesPedigreeFunction  Age\n",
              "0            6      148             72  ...  33.6                     0.627   50\n",
              "1            1       85             66  ...  26.6                     0.351   31\n",
              "2            8      183             64  ...  23.3                     0.672   32\n",
              "3            1       89             66  ...  28.1                     0.167   21\n",
              "4            0      137             40  ...  43.1                     2.288   33\n",
              "\n",
              "[5 rows x 8 columns]"
            ]
          },
          "metadata": {},
          "execution_count": 8
        }
      ]
    },
    {
      "cell_type": "code",
      "metadata": {
        "colab": {
          "base_uri": "https://localhost:8080/"
        },
        "id": "gs5bS09hJymO",
        "outputId": "7d78ace8-20c4-445b-be33-5f9088930c2e"
      },
      "source": [
        "y.head()"
      ],
      "execution_count": null,
      "outputs": [
        {
          "output_type": "execute_result",
          "data": {
            "text/plain": [
              "0    1\n",
              "1    0\n",
              "2    1\n",
              "3    0\n",
              "4    1\n",
              "Name: Outcome, dtype: int64"
            ]
          },
          "metadata": {},
          "execution_count": 9
        }
      ]
    },
    {
      "cell_type": "markdown",
      "metadata": {
        "id": "cIIsWYlfJ18C"
      },
      "source": [
        "## Apply Feature Scaling"
      ]
    },
    {
      "cell_type": "code",
      "metadata": {
        "id": "6Sck-uXmJ6aw"
      },
      "source": [
        "from sklearn.preprocessing import StandardScaler\n",
        "scaler = StandardScaler()\n",
        "scaler.fit(X)\n",
        "SSX = scaler.transform(X)"
      ],
      "execution_count": null,
      "outputs": []
    },
    {
      "cell_type": "markdown",
      "metadata": {
        "id": "eoY0SUGuLpMp"
      },
      "source": [
        "## Train - Test split"
      ]
    },
    {
      "cell_type": "code",
      "metadata": {
        "id": "fYiceLF0Ltk2"
      },
      "source": [
        "from sklearn.model_selection import train_test_split\n",
        "X_train, X_test, y_train, y_test = train_test_split(SSX, y, test_size=0.2, random_state=42)"
      ],
      "execution_count": null,
      "outputs": []
    },
    {
      "cell_type": "code",
      "metadata": {
        "colab": {
          "base_uri": "https://localhost:8080/"
        },
        "id": "avd714evMIVD",
        "outputId": "451d4f10-0afb-41f7-b20d-4c953b816fc2"
      },
      "source": [
        "X_test.shape,y_test.shape"
      ],
      "execution_count": null,
      "outputs": [
        {
          "output_type": "execute_result",
          "data": {
            "text/plain": [
              "((154, 8), (154,))"
            ]
          },
          "metadata": {},
          "execution_count": 12
        }
      ]
    },
    {
      "cell_type": "code",
      "metadata": {
        "colab": {
          "base_uri": "https://localhost:8080/"
        },
        "id": "z92Dp1DYMQeD",
        "outputId": "b4c95eaa-4658-4238-dcaf-aff0a9ac9d4c"
      },
      "source": [
        "X_train.shape,y_train.shape"
      ],
      "execution_count": null,
      "outputs": [
        {
          "output_type": "execute_result",
          "data": {
            "text/plain": [
              "((614, 8), (614,))"
            ]
          },
          "metadata": {},
          "execution_count": 13
        }
      ]
    },
    {
      "cell_type": "markdown",
      "metadata": {
        "id": "l5iAZjU9MYWv"
      },
      "source": [
        "## Build the CLASSIFICATION Algorithms"
      ]
    },
    {
      "cell_type": "markdown",
      "metadata": {
        "id": "ltIT2S_JMoHa"
      },
      "source": [
        "### Logistic Regression"
      ]
    },
    {
      "cell_type": "code",
      "metadata": {
        "colab": {
          "base_uri": "https://localhost:8080/"
        },
        "id": "-Ccss_jeMf4P",
        "outputId": "dc804205-4646-462c-bff7-31e05737f609"
      },
      "source": [
        "from sklearn.linear_model import LogisticRegression\n",
        "lr = LogisticRegression(solver = 'liblinear', multi_class='ovr')\n",
        "lr.fit(X_train, y_train)"
      ],
      "execution_count": null,
      "outputs": [
        {
          "output_type": "execute_result",
          "data": {
            "text/plain": [
              "LogisticRegression(C=1.0, class_weight=None, dual=False, fit_intercept=True,\n",
              "                   intercept_scaling=1, l1_ratio=None, max_iter=100,\n",
              "                   multi_class='ovr', n_jobs=None, penalty='l2',\n",
              "                   random_state=None, solver='liblinear', tol=0.0001, verbose=0,\n",
              "                   warm_start=False)"
            ]
          },
          "metadata": {},
          "execution_count": 14
        }
      ]
    },
    {
      "cell_type": "markdown",
      "metadata": {
        "id": "wL7b__JNNNYE"
      },
      "source": [
        "### KNeighborsClssifler (KNN)"
      ]
    },
    {
      "cell_type": "code",
      "metadata": {
        "colab": {
          "base_uri": "https://localhost:8080/"
        },
        "id": "LAoBJxzZMngl",
        "outputId": "174a1783-1254-4564-d72d-1caa15b3924d"
      },
      "source": [
        "from sklearn.neighbors import KNeighborsClassifier\n",
        "knn=KNeighborsClassifier()\n",
        "knn.fit(X_train,y_train)"
      ],
      "execution_count": null,
      "outputs": [
        {
          "output_type": "execute_result",
          "data": {
            "text/plain": [
              "KNeighborsClassifier(algorithm='auto', leaf_size=30, metric='minkowski',\n",
              "                     metric_params=None, n_jobs=None, n_neighbors=5, p=2,\n",
              "                     weights='uniform')"
            ]
          },
          "metadata": {},
          "execution_count": 15
        }
      ]
    },
    {
      "cell_type": "markdown",
      "metadata": {
        "id": "TvedTYZqNq1H"
      },
      "source": [
        "### Navie-Bayes Classifier"
      ]
    },
    {
      "cell_type": "code",
      "metadata": {
        "colab": {
          "base_uri": "https://localhost:8080/"
        },
        "id": "0-DkChI1NwnF",
        "outputId": "bda90a01-9016-45c7-b920-3058d006ec11"
      },
      "source": [
        "from sklearn.naive_bayes import GaussianNB\n",
        "nb = GaussianNB()\n",
        "nb.fit(X_train, y_train)"
      ],
      "execution_count": null,
      "outputs": [
        {
          "output_type": "execute_result",
          "data": {
            "text/plain": [
              "GaussianNB(priors=None, var_smoothing=1e-09)"
            ]
          },
          "metadata": {},
          "execution_count": 16
        }
      ]
    },
    {
      "cell_type": "markdown",
      "metadata": {
        "id": "XFAT3G1BOBmr"
      },
      "source": [
        "### Support Vector Machine (SVM)"
      ]
    },
    {
      "cell_type": "code",
      "metadata": {
        "colab": {
          "base_uri": "https://localhost:8080/"
        },
        "id": "LM5-fruCOJr7",
        "outputId": "7366ad9c-9770-472d-bec7-e99fc8f66ce8"
      },
      "source": [
        "from sklearn.svm import SVC\n",
        "sv=SVC()\n",
        "sv.fit(X_train, y_train)"
      ],
      "execution_count": null,
      "outputs": [
        {
          "output_type": "execute_result",
          "data": {
            "text/plain": [
              "SVC(C=1.0, break_ties=False, cache_size=200, class_weight=None, coef0=0.0,\n",
              "    decision_function_shape='ovr', degree=3, gamma='scale', kernel='rbf',\n",
              "    max_iter=-1, probability=False, random_state=None, shrinking=True,\n",
              "    tol=0.001, verbose=False)"
            ]
          },
          "metadata": {},
          "execution_count": 17
        }
      ]
    },
    {
      "cell_type": "markdown",
      "metadata": {
        "id": "Sd7Ga2G4OZ_x"
      },
      "source": [
        "### Decision tree"
      ]
    },
    {
      "cell_type": "code",
      "metadata": {
        "colab": {
          "base_uri": "https://localhost:8080/"
        },
        "id": "u678tlm-OdoN",
        "outputId": "5d249672-cec7-40af-9141-08463a798fbe"
      },
      "source": [
        "from sklearn.tree import DecisionTreeClassifier\n",
        "dt = DecisionTreeClassifier()\n",
        "dt.fit(X_train, y_train)"
      ],
      "execution_count": null,
      "outputs": [
        {
          "output_type": "execute_result",
          "data": {
            "text/plain": [
              "DecisionTreeClassifier(ccp_alpha=0.0, class_weight=None, criterion='gini',\n",
              "                       max_depth=None, max_features=None, max_leaf_nodes=None,\n",
              "                       min_impurity_decrease=0.0, min_impurity_split=None,\n",
              "                       min_samples_leaf=1, min_samples_split=2,\n",
              "                       min_weight_fraction_leaf=0.0, presort='deprecated',\n",
              "                       random_state=None, splitter='best')"
            ]
          },
          "metadata": {},
          "execution_count": 18
        }
      ]
    },
    {
      "cell_type": "markdown",
      "metadata": {
        "id": "JQ0br4UHOqGB"
      },
      "source": [
        "### Random Forest"
      ]
    },
    {
      "cell_type": "code",
      "metadata": {
        "colab": {
          "base_uri": "https://localhost:8080/"
        },
        "id": "-GOWV7XZOx0k",
        "outputId": "5f10e601-81fa-4914-db3d-2f9d6bc46317"
      },
      "source": [
        "from sklearn.ensemble import RandomForestClassifier\n",
        "rf = RandomForestClassifier(criterion='entropy')\n",
        "rf.fit(X_train,y_train)"
      ],
      "execution_count": null,
      "outputs": [
        {
          "output_type": "execute_result",
          "data": {
            "text/plain": [
              "RandomForestClassifier(bootstrap=True, ccp_alpha=0.0, class_weight=None,\n",
              "                       criterion='entropy', max_depth=None, max_features='auto',\n",
              "                       max_leaf_nodes=None, max_samples=None,\n",
              "                       min_impurity_decrease=0.0, min_impurity_split=None,\n",
              "                       min_samples_leaf=1, min_samples_split=2,\n",
              "                       min_weight_fraction_leaf=0.0, n_estimators=100,\n",
              "                       n_jobs=None, oob_score=False, random_state=None,\n",
              "                       verbose=0, warm_start=False)"
            ]
          },
          "metadata": {},
          "execution_count": 19
        }
      ]
    },
    {
      "cell_type": "markdown",
      "metadata": {
        "id": "1RwSnT4CPKhF"
      },
      "source": [
        "## Prediction"
      ]
    },
    {
      "cell_type": "markdown",
      "metadata": {
        "id": "fMyyrM8WPQID"
      },
      "source": [
        "### Logistic Regression"
      ]
    },
    {
      "cell_type": "code",
      "metadata": {
        "colab": {
          "base_uri": "https://localhost:8080/"
        },
        "id": "L4bIJmZ_PUZT",
        "outputId": "e13cb81a-e242-4910-bb97-44b4f6023518"
      },
      "source": [
        "X_test.shape "
      ],
      "execution_count": null,
      "outputs": [
        {
          "output_type": "execute_result",
          "data": {
            "text/plain": [
              "(154, 8)"
            ]
          },
          "metadata": {},
          "execution_count": 20
        }
      ]
    },
    {
      "cell_type": "code",
      "metadata": {
        "id": "QkIB1c0xPXfx"
      },
      "source": [
        "lr_pred=lr.predict(X_test)"
      ],
      "execution_count": null,
      "outputs": []
    },
    {
      "cell_type": "code",
      "metadata": {
        "colab": {
          "base_uri": "https://localhost:8080/"
        },
        "id": "hOgnDGRYPcsn",
        "outputId": "e0a7a281-f857-4506-cc9e-86fefa3943ef"
      },
      "source": [
        "lr_pred.shape "
      ],
      "execution_count": null,
      "outputs": [
        {
          "output_type": "execute_result",
          "data": {
            "text/plain": [
              "(154,)"
            ]
          },
          "metadata": {},
          "execution_count": 22
        }
      ]
    },
    {
      "cell_type": "markdown",
      "metadata": {
        "id": "QqNmxA3-PgoM"
      },
      "source": [
        "### KNN"
      ]
    },
    {
      "cell_type": "code",
      "metadata": {
        "id": "qU0uVPizPj1M"
      },
      "source": [
        "knn_pred=knn.predict(X_test)"
      ],
      "execution_count": null,
      "outputs": []
    },
    {
      "cell_type": "markdown",
      "metadata": {
        "id": "uGlM65P7PrO8"
      },
      "source": [
        "### Naivie Bayes"
      ]
    },
    {
      "cell_type": "code",
      "metadata": {
        "id": "ODSZ3gvXPurm"
      },
      "source": [
        "nb_pred=nb.predict(X_test)"
      ],
      "execution_count": null,
      "outputs": []
    },
    {
      "cell_type": "markdown",
      "metadata": {
        "id": "4osiqhRtTcTV"
      },
      "source": [
        "### Support Vector Machine (SVM)"
      ]
    },
    {
      "cell_type": "code",
      "metadata": {
        "id": "xdJ8A8P0Td73"
      },
      "source": [
        "sv_pred=sv.predict(X_test)"
      ],
      "execution_count": null,
      "outputs": []
    },
    {
      "cell_type": "markdown",
      "metadata": {
        "id": "C6aavNF5P4Ff"
      },
      "source": [
        "### Decesion Tree"
      ]
    },
    {
      "cell_type": "code",
      "metadata": {
        "id": "SPyPdDiRP7gx"
      },
      "source": [
        "dt_pred=dt.predict(X_test)"
      ],
      "execution_count": null,
      "outputs": []
    },
    {
      "cell_type": "markdown",
      "metadata": {
        "id": "Yemxo3b5QBGt"
      },
      "source": [
        "### Random Forest"
      ]
    },
    {
      "cell_type": "code",
      "metadata": {
        "id": "8UJ7Q5MTQFFW"
      },
      "source": [
        "rf_pred=rf.predict(X_test)"
      ],
      "execution_count": null,
      "outputs": []
    },
    {
      "cell_type": "markdown",
      "metadata": {
        "id": "BuyjdwlpQROn"
      },
      "source": [
        "## Model Evaluation"
      ]
    },
    {
      "cell_type": "markdown",
      "metadata": {
        "id": "6D8Rhkl0QWqn"
      },
      "source": [
        "### Train Score and Test Score"
      ]
    },
    {
      "cell_type": "code",
      "metadata": {
        "colab": {
          "base_uri": "https://localhost:8080/"
        },
        "id": "RC8UGY4xQV3p",
        "outputId": "24b5acf0-cb1a-4910-a8a2-bccf83627b00"
      },
      "source": [
        "# Logistic Regression\n",
        "from sklearn.metrics import accuracy_score\n",
        "print('Train Accuracy of Logistic Regression',lr.score(X_train,y_train)*100)\n",
        "print('Accuracy (TEST) score of Logistic Regression',lr.score(X_test,y_test)*100)\n",
        "print('Accuracy (TEST) score of Logistic Regression',accuracy_score(y_test,lr_pred)*100)"
      ],
      "execution_count": null,
      "outputs": [
        {
          "output_type": "stream",
          "name": "stdout",
          "text": [
            "Train Accuracy of Logistic Regression 77.0358306188925\n",
            "Accuracy (TEST) score of Logistic Regression 75.32467532467533\n",
            "Accuracy (TEST) score of Logistic Regression 75.32467532467533\n"
          ]
        }
      ]
    },
    {
      "cell_type": "code",
      "metadata": {
        "colab": {
          "base_uri": "https://localhost:8080/"
        },
        "id": "gl-HTYGBRiY2",
        "outputId": "31fa4a60-9ffa-49e1-bb66-6d217592d2dc"
      },
      "source": [
        "# KNN\n",
        "print('Train Accuracy of K-Nearest Neighbors',knn.score(X_train,y_train)*100)\n",
        "print('Accuracy (TEST) score of K-Nearest Neighbors',knn.score(X_test,y_test)*100)\n",
        "print('Accuracy (TEST) score of K-Nearest Neighbors',accuracy_score(y_test,knn_pred)*100)"
      ],
      "execution_count": null,
      "outputs": [
        {
          "output_type": "stream",
          "name": "stdout",
          "text": [
            "Train Accuracy of K-Nearest Neighbors 82.08469055374593\n",
            "Accuracy (TEST) score of K-Nearest Neighbors 68.83116883116884\n",
            "Accuracy (TEST) score of K-Nearest Neighbors 68.83116883116884\n"
          ]
        }
      ]
    },
    {
      "cell_type": "code",
      "metadata": {
        "colab": {
          "base_uri": "https://localhost:8080/"
        },
        "id": "05gh6zmbSw9W",
        "outputId": "28a6a91e-42ed-45fd-cbb7-d82963da4f7c"
      },
      "source": [
        "# Navie-Bayes\n",
        "print('Train Accuracy of Naive Bayes classifier',nb.score(X_train,y_train)*100)\n",
        "print('Accuracy (TEST) Naive Bayes classifier',nb.score(X_test,y_test)*100)\n",
        "print('Accuracy (TEST) Naive Bayes classifier',accuracy_score(y_test,nb_pred)*100)"
      ],
      "execution_count": null,
      "outputs": [
        {
          "output_type": "stream",
          "name": "stdout",
          "text": [
            "Train Accuracy of Naive Bayes classifier 75.2442996742671\n",
            "Accuracy (TEST) Naive Bayes classifier 76.62337662337663\n",
            "Accuracy (TEST) Naive Bayes classifier 76.62337662337663\n"
          ]
        }
      ]
    },
    {
      "cell_type": "code",
      "metadata": {
        "colab": {
          "base_uri": "https://localhost:8080/"
        },
        "id": "5peKrWFIS-dI",
        "outputId": "089f7d03-4d7b-4fbc-f97c-d135dec81e29"
      },
      "source": [
        "# SVM\n",
        "print('Train Accuracy of Support Vector Classification',sv.score(X_train,y_train)*100)\n",
        "print('Accuracy (TEST) score of Support Vector Classification',sv.score(X_test,y_test)*100)\n",
        "print('Accuracy (TEST) score of Support Vector Classification',accuracy_score(y_test,sv_pred)*100)"
      ],
      "execution_count": null,
      "outputs": [
        {
          "output_type": "stream",
          "name": "stdout",
          "text": [
            "Train Accuracy of Support Vector Classification 82.89902280130293\n",
            "Accuracy (TEST) score of Support Vector Classification 72.72727272727273\n",
            "Accuracy (TEST) score of Support Vector Classification 72.72727272727273\n"
          ]
        }
      ]
    },
    {
      "cell_type": "code",
      "metadata": {
        "colab": {
          "base_uri": "https://localhost:8080/"
        },
        "id": "NwTQu7lVTn9j",
        "outputId": "42fec344-570e-4eea-b4b4-faa7067c1f7e"
      },
      "source": [
        "# Decesion Tree\n",
        "print('Train Accuracy of Decision Tree',dt.score(X_train,y_train)*100)\n",
        "print('Accuracy (TEST) score of Decision Tree',dt.score(X_test,y_test)*100)\n",
        "print('Accuracy (TEST) score of Decision Tree',accuracy_score(y_test,dt_pred)*100)"
      ],
      "execution_count": null,
      "outputs": [
        {
          "output_type": "stream",
          "name": "stdout",
          "text": [
            "Train Accuracy of Decision Tree 100.0\n",
            "Accuracy (TEST) score of Decision Tree 75.32467532467533\n",
            "Accuracy (TEST) score of Decision Tree 75.32467532467533\n"
          ]
        }
      ]
    },
    {
      "cell_type": "code",
      "metadata": {
        "colab": {
          "base_uri": "https://localhost:8080/"
        },
        "id": "2_IqFN1xTv4-",
        "outputId": "511381bd-6b04-4943-c2bf-1359722d7731"
      },
      "source": [
        "# Random Forest\n",
        "print('Train Accuracy of Random forest',rf.score(X_train,y_train)*100)\n",
        "print('Accuracy (TEST) score of Random forest',rf.score(X_test,y_test)*100)\n",
        "print('Accuracy (TEST) score of Random forest',accuracy_score(y_test,rf_pred)*100)"
      ],
      "execution_count": null,
      "outputs": [
        {
          "output_type": "stream",
          "name": "stdout",
          "text": [
            "Train Accuracy of Random forest 100.0\n",
            "Accuracy (TEST) score of Random forest 75.97402597402598\n",
            "Accuracy (TEST) score of Random forest 75.97402597402598\n"
          ]
        }
      ]
    },
    {
      "cell_type": "markdown",
      "metadata": {
        "id": "Dy1LPjmdT6C1"
      },
      "source": [
        "### Confusion Matrix"
      ]
    },
    {
      "cell_type": "code",
      "metadata": {
        "colab": {
          "base_uri": "https://localhost:8080/"
        },
        "id": "tD230ZYAT99N",
        "outputId": "5e7fc143-7be4-49b5-c30b-c255bb191201"
      },
      "source": [
        "from sklearn.metrics import classification_report,confusion_matrix\n",
        "cm=confusion_matrix(y_test,lr_pred)\n",
        "cm "
      ],
      "execution_count": null,
      "outputs": [
        {
          "output_type": "execute_result",
          "data": {
            "text/plain": [
              "array([[79, 20],\n",
              "       [18, 37]])"
            ]
          },
          "metadata": {},
          "execution_count": 34
        }
      ]
    },
    {
      "cell_type": "code",
      "metadata": {
        "colab": {
          "base_uri": "https://localhost:8080/",
          "height": 283
        },
        "id": "PBYADcm-UYIc",
        "outputId": "40c23c4a-530d-4edd-e49a-46fac010b5fd"
      },
      "source": [
        "sns.heatmap(confusion_matrix(y_test,lr_pred),annot=True,fmt='d')"
      ],
      "execution_count": null,
      "outputs": [
        {
          "output_type": "execute_result",
          "data": {
            "text/plain": [
              "<matplotlib.axes._subplots.AxesSubplot at 0x7fc0b7ceee10>"
            ]
          },
          "metadata": {},
          "execution_count": 35
        },
        {
          "output_type": "display_data",
          "data": {
            "image/png": "[encoded data removed]",
            "text/plain": [
              "<Figure size 432x288 with 2 Axes>"
            ]
          },
          "metadata": {
            "needs_background": "light"
          }
        }
      ]
    },
    {
      "cell_type": "code",
      "metadata": {
        "id": "9kfgmXoCUqSw"
      },
      "source": [
        "TN= cm[0,0]\n",
        "FP= cm[0,1]\n",
        "FN= cm[1,0]\n",
        "TP= cm[1,1]"
      ],
      "execution_count": null,
      "outputs": []
    },
    {
      "cell_type": "code",
      "metadata": {
        "colab": {
          "base_uri": "https://localhost:8080/"
        },
        "id": "t9g40kFAU4XR",
        "outputId": "3e3ec406-133a-4075-8957-5a0fb84eda2d"
      },
      "source": [
        "TN, FP, FN, TP "
      ],
      "execution_count": null,
      "outputs": [
        {
          "output_type": "execute_result",
          "data": {
            "text/plain": [
              "(79, 20, 18, 37)"
            ]
          },
          "metadata": {},
          "execution_count": 37
        }
      ]
    },
    {
      "cell_type": "code",
      "metadata": {
        "colab": {
          "base_uri": "https://localhost:8080/"
        },
        "id": "T5f8__rSU8sg",
        "outputId": "57796e3f-296e-4b1e-8c9e-6dca810d80ae"
      },
      "source": [
        "from sklearn.metrics import classification_report, confusion_matrix\n",
        "from sklearn.metrics import accuracy_score, roc_auc_score, roc_curve\n",
        "cm = confusion_matrix(y_test, lr_pred)\n",
        "\n",
        "print('TN - True Negative {}'.format(cm[0,0]))\n",
        "print('TN - False Positive {}'.format(cm[0,1]))\n",
        "print('TN - False Negative {}'.format(cm[1,0]))\n",
        "print('TN - True Positive {}'.format(cm[1,1]))\n",
        "print('Accuracy Rate: {}'.format(np.divide(np.sum([cm[0,0],cm[1,1]]),np.sum(cm))*100))\n",
        "print('Misclassification Rate: {}'.format(np.divide(np.sum([cm[0,1],cm[1,0]]),np.sum(cm))*100))"
      ],
      "execution_count": null,
      "outputs": [
        {
          "output_type": "stream",
          "name": "stdout",
          "text": [
            "TN - True Negative 79\n",
            "TN - False Positive 20\n",
            "TN - False Negative 18\n",
            "TN - True Positive 37\n",
            "Accuracy Rate: 75.32467532467533\n",
            "Misclassification Rate: 24.675324675324674\n"
          ]
        }
      ]
    },
    {
      "cell_type": "code",
      "metadata": {
        "colab": {
          "base_uri": "https://localhost:8080/",
          "height": 297
        },
        "id": "txKEPkFhYwiv",
        "outputId": "047dd3bb-b4e2-448b-9015-622197c730ca"
      },
      "source": [
        "plt.clf()\n",
        "plt.imshow(cm, interpolation='nearest', cmap=plt.cm.Wistia)\n",
        "classNames=['0','1']\n",
        "plt.title('Confusion Matrix of Logistic Regression')\n",
        "plt.ylabel('Actual(True) values')\n",
        "plt.xlabel('Predicted values')\n",
        "tick_marks = np.arange(len(classNames))\n",
        "plt.xticks(tick_marks, classNames, rotation=45)\n",
        "plt.yticks(tick_marks, classNames)\n",
        "s = [['TN', 'FP'],['FN','TP']]\n",
        "for i in range(2):\n",
        "    for j in range(2):\n",
        "        plt.text(j,i, str(s[i][j]+'='+str(cm[i][j])))\n",
        "plt.show()"
      ],
      "execution_count": null,
      "outputs": [
        {
          "output_type": "display_data",
          "data": {
            "image/png": "[encoded data removed]",
            "text/plain": [
              "<Figure size 432x288 with 1 Axes>"
            ]
          },
          "metadata": {
            "needs_background": "light"
          }
        }
      ]
    },
    {
      "cell_type": "code",
      "metadata": {
        "colab": {
          "base_uri": "https://localhost:8080/",
          "height": 143
        },
        "id": "vQGiOPEJaijg",
        "outputId": "0f066af4-13d2-4665-b8dc-0a0999311807"
      },
      "source": [
        "pd.crosstab(y_test, lr_pred, margins=False)"
      ],
      "execution_count": null,
      "outputs": [
        {
          "output_type": "execute_result",
          "data": {
            "text/html": [
              "<div>\n",
              "<style scoped>\n",
              "    .dataframe tbody tr th:only-of-type {\n",
              "        vertical-align: middle;\n",
              "    }\n",
              "\n",
              "    .dataframe tbody tr th {\n",
              "        vertical-align: top;\n",
              "    }\n",
              "\n",
              "    .dataframe thead th {\n",
              "        text-align: right;\n",
              "    }\n",
              "</style>\n",
              "<table border=\"1\" class=\"dataframe\">\n",
              "  <thead>\n",
              "    <tr style=\"text-align: right;\">\n",
              "      <th>col_0</th>\n",
              "      <th>0</th>\n",
              "      <th>1</th>\n",
              "    </tr>\n",
              "    <tr>\n",
              "      <th>Outcome</th>\n",
              "      <th></th>\n",
              "      <th></th>\n",
              "    </tr>\n",
              "  </thead>\n",
              "  <tbody>\n",
              "    <tr>\n",
              "      <th>0</th>\n",
              "      <td>79</td>\n",
              "      <td>20</td>\n",
              "    </tr>\n",
              "    <tr>\n",
              "      <th>1</th>\n",
              "      <td>18</td>\n",
              "      <td>37</td>\n",
              "    </tr>\n",
              "  </tbody>\n",
              "</table>\n",
              "</div>"
            ],
            "text/plain": [
              "col_0     0   1\n",
              "Outcome        \n",
              "0        79  20\n",
              "1        18  37"
            ]
          },
          "metadata": {},
          "execution_count": 40
        }
      ]
    },
    {
      "cell_type": "code",
      "metadata": {
        "colab": {
          "base_uri": "https://localhost:8080/",
          "height": 175
        },
        "id": "DjFvUslUavML",
        "outputId": "f2c7c02c-00ce-4603-fcb9-77fce563cd36"
      },
      "source": [
        "pd.crosstab(y_test, lr_pred, margins=True)"
      ],
      "execution_count": null,
      "outputs": [
        {
          "output_type": "execute_result",
          "data": {
            "text/html": [
              "<div>\n",
              "<style scoped>\n",
              "    .dataframe tbody tr th:only-of-type {\n",
              "        vertical-align: middle;\n",
              "    }\n",
              "\n",
              "    .dataframe tbody tr th {\n",
              "        vertical-align: top;\n",
              "    }\n",
              "\n",
              "    .dataframe thead th {\n",
              "        text-align: right;\n",
              "    }\n",
              "</style>\n",
              "<table border=\"1\" class=\"dataframe\">\n",
              "  <thead>\n",
              "    <tr style=\"text-align: right;\">\n",
              "      <th>col_0</th>\n",
              "      <th>0</th>\n",
              "      <th>1</th>\n",
              "      <th>All</th>\n",
              "    </tr>\n",
              "    <tr>\n",
              "      <th>Outcome</th>\n",
              "      <th></th>\n",
              "      <th></th>\n",
              "      <th></th>\n",
              "    </tr>\n",
              "  </thead>\n",
              "  <tbody>\n",
              "    <tr>\n",
              "      <th>0</th>\n",
              "      <td>79</td>\n",
              "      <td>20</td>\n",
              "      <td>99</td>\n",
              "    </tr>\n",
              "    <tr>\n",
              "      <th>1</th>\n",
              "      <td>18</td>\n",
              "      <td>37</td>\n",
              "      <td>55</td>\n",
              "    </tr>\n",
              "    <tr>\n",
              "      <th>All</th>\n",
              "      <td>97</td>\n",
              "      <td>57</td>\n",
              "      <td>154</td>\n",
              "    </tr>\n",
              "  </tbody>\n",
              "</table>\n",
              "</div>"
            ],
            "text/plain": [
              "col_0     0   1  All\n",
              "Outcome             \n",
              "0        79  20   99\n",
              "1        18  37   55\n",
              "All      97  57  154"
            ]
          },
          "metadata": {},
          "execution_count": 41
        }
      ]
    },
    {
      "cell_type": "code",
      "metadata": {
        "colab": {
          "base_uri": "https://localhost:8080/",
          "height": 175
        },
        "id": "njgYfyQfa2QP",
        "outputId": "4f18768b-ce45-4420-af3e-dd03cf2fbd0d"
      },
      "source": [
        "pd.crosstab(y_test, lr_pred, rownames=['Actual values'], \n",
        "            colnames=['Predicted values'], margins=True)"
      ],
      "execution_count": null,
      "outputs": [
        {
          "output_type": "execute_result",
          "data": {
            "text/html": [
              "<div>\n",
              "<style scoped>\n",
              "    .dataframe tbody tr th:only-of-type {\n",
              "        vertical-align: middle;\n",
              "    }\n",
              "\n",
              "    .dataframe tbody tr th {\n",
              "        vertical-align: top;\n",
              "    }\n",
              "\n",
              "    .dataframe thead th {\n",
              "        text-align: right;\n",
              "    }\n",
              "</style>\n",
              "<table border=\"1\" class=\"dataframe\">\n",
              "  <thead>\n",
              "    <tr style=\"text-align: right;\">\n",
              "      <th>Predicted values</th>\n",
              "      <th>0</th>\n",
              "      <th>1</th>\n",
              "      <th>All</th>\n",
              "    </tr>\n",
              "    <tr>\n",
              "      <th>Actual values</th>\n",
              "      <th></th>\n",
              "      <th></th>\n",
              "      <th></th>\n",
              "    </tr>\n",
              "  </thead>\n",
              "  <tbody>\n",
              "    <tr>\n",
              "      <th>0</th>\n",
              "      <td>79</td>\n",
              "      <td>20</td>\n",
              "      <td>99</td>\n",
              "    </tr>\n",
              "    <tr>\n",
              "      <th>1</th>\n",
              "      <td>18</td>\n",
              "      <td>37</td>\n",
              "      <td>55</td>\n",
              "    </tr>\n",
              "    <tr>\n",
              "      <th>All</th>\n",
              "      <td>97</td>\n",
              "      <td>57</td>\n",
              "      <td>154</td>\n",
              "    </tr>\n",
              "  </tbody>\n",
              "</table>\n",
              "</div>"
            ],
            "text/plain": [
              "Predicted values   0   1  All\n",
              "Actual values                \n",
              "0                 79  20   99\n",
              "1                 18  37   55\n",
              "All               97  57  154"
            ]
          },
          "metadata": {},
          "execution_count": 42
        }
      ]
    },
    {
      "cell_type": "markdown",
      "metadata": {
        "id": "AHgH-oe2bhbx"
      },
      "source": [
        "### Precision(PPV-Positive Predictive Value)"
      ]
    },
    {
      "cell_type": "code",
      "metadata": {
        "colab": {
          "base_uri": "https://localhost:8080/"
        },
        "id": "lZ7CXz6zbqsw",
        "outputId": "15d9300d-b35d-4682-8f84-accaf863ee73"
      },
      "source": [
        "TP,FP"
      ],
      "execution_count": null,
      "outputs": [
        {
          "output_type": "execute_result",
          "data": {
            "text/plain": [
              "(37, 20)"
            ]
          },
          "metadata": {},
          "execution_count": 43
        }
      ]
    },
    {
      "cell_type": "code",
      "metadata": {
        "colab": {
          "base_uri": "https://localhost:8080/"
        },
        "id": "lveYH1Lqbvrv",
        "outputId": "759ca105-45dc-4692-f156-2773f1ebe826"
      },
      "source": [
        "Precision=TP/(TP+FP)\n",
        "Precision "
      ],
      "execution_count": null,
      "outputs": [
        {
          "output_type": "execute_result",
          "data": {
            "text/plain": [
              "0.6491228070175439"
            ]
          },
          "metadata": {},
          "execution_count": 44
        }
      ]
    },
    {
      "cell_type": "code",
      "metadata": {
        "colab": {
          "base_uri": "https://localhost:8080/"
        },
        "id": "7dVA6UWBb9Eq",
        "outputId": "1a715d42-be80-4fdc-c945-c31e2aab45e6"
      },
      "source": [
        "35/(35+16)"
      ],
      "execution_count": null,
      "outputs": [
        {
          "output_type": "execute_result",
          "data": {
            "text/plain": [
              "0.6862745098039216"
            ]
          },
          "metadata": {},
          "execution_count": 45
        }
      ]
    },
    {
      "cell_type": "code",
      "metadata": {
        "colab": {
          "base_uri": "https://localhost:8080/"
        },
        "id": "_ohxeHOHcCGZ",
        "outputId": "fbbcbc67-b536-496f-ff84-2732575756c2"
      },
      "source": [
        "precision_Score = TP / float(TP + FP)*100\n",
        "print('Precision score : {0:0.4f}'.format(precision_Score))"
      ],
      "execution_count": null,
      "outputs": [
        {
          "output_type": "stream",
          "name": "stdout",
          "text": [
            "Precision score : 64.9123\n"
          ]
        }
      ]
    },
    {
      "cell_type": "code",
      "metadata": {
        "colab": {
          "base_uri": "https://localhost:8080/"
        },
        "id": "gAIgsG-9cdD1",
        "outputId": "84131377-4220-4d05-f254-5d24345ae1cd"
      },
      "source": [
        "from sklearn.metrics import precision_score\n",
        "print('precision Score is:', precision_score(y_test,lr_pred)*100)\n",
        "print('Micro Average precision Score is:', precision_score(y_test,lr_pred,average='micro')*100)\n",
        "print('Macro Average precision Score is:', precision_score(y_test,lr_pred,average='macro')*100)\n",
        "print('Weighted Average precision Score is:', precision_score(y_test,lr_pred,average='weighted')*100)\n",
        "print('precision Score on Non weighted score is:', precision_score(y_test,lr_pred, average=None)*100)"
      ],
      "execution_count": null,
      "outputs": [
        {
          "output_type": "stream",
          "name": "stdout",
          "text": [
            "precision Score is: 64.91228070175438\n",
            "Micro Average precision Score is: 75.32467532467533\n",
            "Macro Average precision Score is: 73.17778983541328\n",
            "Weighted Average precision Score is: 75.53936387360154\n",
            "precision Score on Non weighted score is: [81.44329897 64.9122807 ]\n"
          ]
        }
      ]
    },
    {
      "cell_type": "code",
      "metadata": {
        "colab": {
          "base_uri": "https://localhost:8080/"
        },
        "id": "N0Af3F6Kd6JD",
        "outputId": "3dc2c472-9e41-4f3a-cc43-00a645c4e0bb"
      },
      "source": [
        "print('Classification Report of Logistic Regression: \\n', classification_report(y_test,lr_pred,digits=4))"
      ],
      "execution_count": null,
      "outputs": [
        {
          "output_type": "stream",
          "name": "stdout",
          "text": [
            "Classification Report of Logistic Regression: \n",
            "               precision    recall  f1-score   support\n",
            "\n",
            "           0     0.8144    0.7980    0.8061        99\n",
            "           1     0.6491    0.6727    0.6607        55\n",
            "\n",
            "    accuracy                         0.7532       154\n",
            "   macro avg     0.7318    0.7354    0.7334       154\n",
            "weighted avg     0.7554    0.7532    0.7542       154\n",
            "\n"
          ]
        }
      ]
    },
    {
      "cell_type": "markdown",
      "metadata": {
        "id": "Od0WeigDeaNC"
      },
      "source": [
        "### False Positive Rate (FPR)"
      ]
    },
    {
      "cell_type": "code",
      "metadata": {
        "colab": {
          "base_uri": "https://localhost:8080/"
        },
        "id": "KVedqaxSefOO",
        "outputId": "0b306c28-e94f-4cc3-cb2c-b02e1372bd59"
      },
      "source": [
        "FPR = FP / float(FP+TN)*100\n",
        "print('False Positive Rate: {0:0.4f}'.format(FPR))"
      ],
      "execution_count": null,
      "outputs": [
        {
          "output_type": "stream",
          "name": "stdout",
          "text": [
            "False Positive Rate: 20.2020\n"
          ]
        }
      ]
    },
    {
      "cell_type": "code",
      "metadata": {
        "colab": {
          "base_uri": "https://localhost:8080/"
        },
        "id": "23BpDpgpe23B",
        "outputId": "ad7f2ce9-8302-4b0d-ec22-0c5743021fda"
      },
      "source": [
        "FP, TN"
      ],
      "execution_count": null,
      "outputs": [
        {
          "output_type": "execute_result",
          "data": {
            "text/plain": [
              "(20, 79)"
            ]
          },
          "metadata": {},
          "execution_count": 50
        }
      ]
    },
    {
      "cell_type": "code",
      "metadata": {
        "colab": {
          "base_uri": "https://localhost:8080/"
        },
        "id": "SBViMgive2-m",
        "outputId": "d292ee44-a513-43a8-e53a-7e3711cbca3b"
      },
      "source": [
        "16/(16+83)"
      ],
      "execution_count": null,
      "outputs": [
        {
          "output_type": "execute_result",
          "data": {
            "text/plain": [
              "0.16161616161616163"
            ]
          },
          "metadata": {},
          "execution_count": 51
        }
      ]
    },
    {
      "cell_type": "markdown",
      "metadata": {
        "id": "HzIKu9qPe9yq"
      },
      "source": [
        "### Specificity"
      ]
    },
    {
      "cell_type": "code",
      "metadata": {
        "colab": {
          "base_uri": "https://localhost:8080/"
        },
        "id": "qXmzPemPfCFj",
        "outputId": "3251533f-47c4-417c-e868-bc4b9c3b6c66"
      },
      "source": [
        "specificity = TN/(TN+FP)*100\n",
        "print('Specificity : {0:0.4f}'.format(specificity))"
      ],
      "execution_count": null,
      "outputs": [
        {
          "output_type": "stream",
          "name": "stdout",
          "text": [
            "Specificity : 79.7980\n"
          ]
        }
      ]
    },
    {
      "cell_type": "markdown",
      "metadata": {
        "id": "W03Ew02CfbLi"
      },
      "source": [
        "### F1-Score"
      ]
    },
    {
      "cell_type": "code",
      "metadata": {
        "colab": {
          "base_uri": "https://localhost:8080/"
        },
        "id": "-qc0JKKafdhm",
        "outputId": "41127692-28c0-424b-9e44-19ac66cb949b"
      },
      "source": [
        "from sklearn.metrics import f1_score\n",
        "print('f1_score of macro :',f1_score(y_test, lr_pred)*100)"
      ],
      "execution_count": null,
      "outputs": [
        {
          "output_type": "stream",
          "name": "stdout",
          "text": [
            "f1_score of macro : 66.07142857142858\n"
          ]
        }
      ]
    },
    {
      "cell_type": "code",
      "metadata": {
        "colab": {
          "base_uri": "https://localhost:8080/"
        },
        "id": "Wxaz1C1Bf4fo",
        "outputId": "211ffd71-5f50-4233-e205-652c2874a7cb"
      },
      "source": [
        "print('Micro Average F1_Score is:', f1_score(y_test,lr_pred,average='micro')*100)\n",
        "print('Macro Average F1_Score is:', f1_score(y_test,lr_pred,average='macro')*100)\n",
        "print('Weighted Average F1_Score is:', f1_score(y_test,lr_pred,average='weighted')*100)\n",
        "print('F1_Score on Non weighted is:', f1_score(y_test,lr_pred, average=None)*100)"
      ],
      "execution_count": null,
      "outputs": [
        {
          "output_type": "stream",
          "name": "stdout",
          "text": [
            "Micro Average F1_Score is: 75.32467532467531\n",
            "Macro Average F1_Score is: 73.34183673469387\n",
            "Weighted Average F1_Score is: 75.41909620991254\n",
            "F1_Score on Non weighted is: [80.6122449  66.07142857]\n"
          ]
        }
      ]
    },
    {
      "cell_type": "markdown",
      "metadata": {
        "id": "V1CPd_HFgRng"
      },
      "source": [
        "### Classification Report of Logistic Regression"
      ]
    },
    {
      "cell_type": "code",
      "metadata": {
        "colab": {
          "base_uri": "https://localhost:8080/"
        },
        "id": "YcdJK4W1gadD",
        "outputId": "376ae1dd-f582-4260-e6e5-c2bf0fc5bedb"
      },
      "source": [
        "from sklearn.metrics import classification_report\n",
        "print('Classification Report of Logistic Regression: \\n', classification_report(y_test,lr_pred,digits=4))"
      ],
      "execution_count": null,
      "outputs": [
        {
          "output_type": "stream",
          "name": "stdout",
          "text": [
            "Classification Report of Logistic Regression: \n",
            "               precision    recall  f1-score   support\n",
            "\n",
            "           0     0.8144    0.7980    0.8061        99\n",
            "           1     0.6491    0.6727    0.6607        55\n",
            "\n",
            "    accuracy                         0.7532       154\n",
            "   macro avg     0.7318    0.7354    0.7334       154\n",
            "weighted avg     0.7554    0.7532    0.7542       154\n",
            "\n"
          ]
        }
      ]
    },
    {
      "cell_type": "markdown",
      "metadata": {
        "id": "sENAYIpFg4Xx"
      },
      "source": [
        "## ROC Curve and ROC AUC"
      ]
    },
    {
      "cell_type": "markdown",
      "metadata": {
        "id": "Uchi9-37po6h"
      },
      "source": [
        "### Confusion Logistic Regression"
      ]
    },
    {
      "cell_type": "code",
      "metadata": {
        "colab": {
          "base_uri": "https://localhost:8080/"
        },
        "id": "9M9qAF_mg8-X",
        "outputId": "1d51b099-c275-4e37-af1b-87d1e0df4e13"
      },
      "source": [
        "auc = roc_auc_score(y_test, lr_pred)\n",
        "print('ROC AUC SCORE of Logistic Regression is',auc)"
      ],
      "execution_count": null,
      "outputs": [
        {
          "output_type": "stream",
          "name": "stdout",
          "text": [
            "ROC AUC SCORE of Logistic Regression is 0.7353535353535354\n"
          ]
        }
      ]
    },
    {
      "cell_type": "code",
      "metadata": {
        "colab": {
          "base_uri": "https://localhost:8080/"
        },
        "id": "m2uYMVhmhPuT",
        "outputId": "2b10bdb4-c22d-4907-f8a7-ccb4958f0ee0"
      },
      "source": [
        "fpr, tpr, thresholds = roc_curve(y_test, lr_pred)\n",
        "plt.plot(fpr, tpr, color='orange', label='ROC')\n",
        "plt.plot([0,1],[0,1], color='darkblue', linestyle='--',label='ROC curve (area = %0.2f)'% auc)\n",
        "plt.xlabel('False Positive Rate')\n",
        "plt.ylabel('True Positive Rate')\n",
        "plt.title('Receiver Operating Characteristic (ROC) Curve of Logistic Regression')\n",
        "plt.legend()\n",
        "plt.show()"
      ],
      "execution_count": null,
      "outputs": [
        {
          "output_type": "display_data",
          "data": {
            "image/png": "[encoded data removed]",
            "text/plain": [
              "<Figure size 432x288 with 1 Axes>"
            ]
          },
          "metadata": {
            "needs_background": "light"
          }
        }
      ]
    },
    {
      "cell_type": "code",
      "metadata": {
        "colab": {
          "base_uri": "https://localhost:8080/"
        },
        "id": "w08Hlt-WjV_g",
        "outputId": "db8660bd-1b34-463d-afa7-bdd9714d4f1f"
      },
      "source": [
        "sns.heatmap(confusion_matrix(y_test,rf_pred),annot=True,fmt='d')"
      ],
      "execution_count": null,
      "outputs": [
        {
          "output_type": "execute_result",
          "data": {
            "text/plain": [
              "<matplotlib.axes._subplots.AxesSubplot at 0x7fc0a85187d0>"
            ]
          },
          "metadata": {},
          "execution_count": 58
        },
        {
          "output_type": "display_data",
          "data": {
            "image/png": "[encoded data removed]",
            "text/plain": [
              "<Figure size 432x288 with 2 Axes>"
            ]
          },
          "metadata": {
            "needs_background": "light"
          }
        }
      ]
    },
    {
      "cell_type": "markdown",
      "metadata": {
        "id": "oPUUVDr5kfSW"
      },
      "source": [
        "### Confusion Matrix of KNN"
      ]
    },
    {
      "cell_type": "code",
      "metadata": {
        "colab": {
          "base_uri": "https://localhost:8080/"
        },
        "id": "YWXey868klUv",
        "outputId": "ea943854-1876-4dfb-ea86-72b5882d3763"
      },
      "source": [
        "sns.heatmap(confusion_matrix(y_test,knn_pred),annot=True,fmt='d')"
      ],
      "execution_count": null,
      "outputs": [
        {
          "output_type": "execute_result",
          "data": {
            "text/plain": [
              "<matplotlib.axes._subplots.AxesSubplot at 0x7fc0a84630d0>"
            ]
          },
          "metadata": {},
          "execution_count": 59
        },
        {
          "output_type": "display_data",
          "data": {
            "image/png": "[encoded data removed]",
            "text/plain": [
              "<Figure size 432x288 with 2 Axes>"
            ]
          },
          "metadata": {
            "needs_background": "light"
          }
        }
      ]
    },
    {
      "cell_type": "code",
      "metadata": {
        "colab": {
          "base_uri": "https://localhost:8080/"
        },
        "id": "C9-r58DilOAx",
        "outputId": "fc14faad-fb0a-4fcb-b9ac-83fa2ead3ce9"
      },
      "source": [
        "cm = confusion_matrix(y_test, knn_pred)\n",
        "\n",
        "print('TN - True Negative {}'.format(cm[0,0]))\n",
        "print('TN - False Positive {}'.format(cm[0,1]))\n",
        "print('TN - False Negative {}'.format(cm[1,0]))\n",
        "print('TN - True Positive {}'.format(cm[1,1]))\n",
        "print('Accuracy Rate: {}'.format(np.divide(np.sum([cm[0,0],cm[1,1]]),np.sum(cm))*100))\n",
        "print('Misclassification Rate: {}'.format(np.divide(np.sum([cm[0,1],cm[1,0]]),np.sum(cm))*100))"
      ],
      "execution_count": null,
      "outputs": [
        {
          "output_type": "stream",
          "name": "stdout",
          "text": [
            "TN - True Negative 79\n",
            "TN - False Positive 20\n",
            "TN - False Negative 28\n",
            "TN - True Positive 27\n",
            "Accuracy Rate: 68.83116883116884\n",
            "Misclassification Rate: 31.16883116883117\n"
          ]
        }
      ]
    },
    {
      "cell_type": "code",
      "metadata": {
        "colab": {
          "base_uri": "https://localhost:8080/"
        },
        "id": "7-scDOnAlgoN",
        "outputId": "a67003c8-a1e4-4a66-f989-ca1e69c5f98d"
      },
      "source": [
        "print('Classification Report of KNN: \\n', classification_report(y_test,knn_pred,digits=4))"
      ],
      "execution_count": null,
      "outputs": [
        {
          "output_type": "stream",
          "name": "stdout",
          "text": [
            "Classification Report of KNN: \n",
            "               precision    recall  f1-score   support\n",
            "\n",
            "           0     0.7383    0.7980    0.7670        99\n",
            "           1     0.5745    0.4909    0.5294        55\n",
            "\n",
            "    accuracy                         0.6883       154\n",
            "   macro avg     0.6564    0.6444    0.6482       154\n",
            "weighted avg     0.6798    0.6883    0.6821       154\n",
            "\n"
          ]
        }
      ]
    },
    {
      "cell_type": "markdown",
      "metadata": {
        "id": "jgPhMltyltHW"
      },
      "source": [
        "### Are Under Curve of KNN"
      ]
    },
    {
      "cell_type": "code",
      "metadata": {
        "colab": {
          "base_uri": "https://localhost:8080/"
        },
        "id": "s1K0Ig4AlxxU",
        "outputId": "6e407421-4979-440e-f3af-2a20caa8c495"
      },
      "source": [
        "auc = roc_auc_score(y_test, knn_pred)\n",
        "print('ROC AUC SCORE of KNN is',auc)"
      ],
      "execution_count": null,
      "outputs": [
        {
          "output_type": "stream",
          "name": "stdout",
          "text": [
            "ROC AUC SCORE of KNN is 0.6444444444444446\n"
          ]
        }
      ]
    },
    {
      "cell_type": "code",
      "metadata": {
        "colab": {
          "base_uri": "https://localhost:8080/"
        },
        "id": "hKwHGedDl33t",
        "outputId": "778a46df-659d-41ca-89e2-69d83f9437ff"
      },
      "source": [
        "fpr, tpr, thresholds = roc_curve(y_test, knn_pred)\n",
        "plt.plot(fpr, tpr, color='orange', label='ROC')\n",
        "plt.plot([0,1],[0,1], color='darkblue', linestyle='--',label='ROC curve (area = %0.2f)'% auc)\n",
        "plt.xlabel('False Positive Rate')\n",
        "plt.ylabel('True Positive Rate')\n",
        "plt.title('Receiver Operating Characteristic (ROC) Curve of KNN')\n",
        "plt.legend()\n",
        "plt.show()"
      ],
      "execution_count": null,
      "outputs": [
        {
          "output_type": "display_data",
          "data": {
            "image/png": "[encoded data removed]",
            "text/plain": [
              "<Figure size 432x288 with 1 Axes>"
            ]
          },
          "metadata": {
            "needs_background": "light"
          }
        }
      ]
    },
    {
      "cell_type": "markdown",
      "metadata": {
        "id": "uhJjjh2InRSR"
      },
      "source": [
        "### Confusion Matrix of Naive Bayes"
      ]
    },
    {
      "cell_type": "code",
      "metadata": {
        "colab": {
          "base_uri": "https://localhost:8080/"
        },
        "id": "Ji9ErZHBnRST",
        "outputId": "cbed89af-1d31-4ba1-db62-73756e1ca6f1"
      },
      "source": [
        "sns.heatmap(confusion_matrix(y_test,nb_pred),annot=True,fmt='d')"
      ],
      "execution_count": null,
      "outputs": [
        {
          "output_type": "execute_result",
          "data": {
            "text/plain": [
              "<matplotlib.axes._subplots.AxesSubplot at 0x7fc0a837fdd0>"
            ]
          },
          "metadata": {},
          "execution_count": 64
        },
        {
          "output_type": "display_data",
          "data": {
            "image/png": "[encoded data removed]",
            "text/plain": [
              "<Figure size 432x288 with 2 Axes>"
            ]
          },
          "metadata": {
            "needs_background": "light"
          }
        }
      ]
    },
    {
      "cell_type": "code",
      "metadata": {
        "colab": {
          "base_uri": "https://localhost:8080/"
        },
        "id": "cEK1eEgBnRSV",
        "outputId": "eb53669e-5139-4cdd-88b9-3edca1345c2f"
      },
      "source": [
        "cm = confusion_matrix(y_test, nb_pred)\n",
        "\n",
        "print('TN - True Negative {}'.format(cm[0,0]))\n",
        "print('TN - False Positive {}'.format(cm[0,1]))\n",
        "print('TN - False Negative {}'.format(cm[1,0]))\n",
        "print('TN - True Positive {}'.format(cm[1,1]))\n",
        "print('Accuracy Rate: {}'.format(np.divide(np.sum([cm[0,0],cm[1,1]]),np.sum(cm))*100))\n",
        "print('Misclassification Rate: {}'.format(np.divide(np.sum([cm[0,1],cm[1,0]]),np.sum(cm))*100))"
      ],
      "execution_count": null,
      "outputs": [
        {
          "output_type": "stream",
          "name": "stdout",
          "text": [
            "TN - True Negative 79\n",
            "TN - False Positive 20\n",
            "TN - False Negative 16\n",
            "TN - True Positive 39\n",
            "Accuracy Rate: 76.62337662337663\n",
            "Misclassification Rate: 23.376623376623375\n"
          ]
        }
      ]
    },
    {
      "cell_type": "code",
      "metadata": {
        "colab": {
          "base_uri": "https://localhost:8080/"
        },
        "id": "4aXXSoc8nRSX",
        "outputId": "b754942f-2257-4963-9ec0-1b577655b7f0"
      },
      "source": [
        "print('Classification Report of Naive Bayes : \\n', classification_report(y_test,knn_pred,digits=4))"
      ],
      "execution_count": null,
      "outputs": [
        {
          "output_type": "stream",
          "name": "stdout",
          "text": [
            "Classification Report of Naive Bayes : \n",
            "               precision    recall  f1-score   support\n",
            "\n",
            "           0     0.7383    0.7980    0.7670        99\n",
            "           1     0.5745    0.4909    0.5294        55\n",
            "\n",
            "    accuracy                         0.6883       154\n",
            "   macro avg     0.6564    0.6444    0.6482       154\n",
            "weighted avg     0.6798    0.6883    0.6821       154\n",
            "\n"
          ]
        }
      ]
    },
    {
      "cell_type": "markdown",
      "metadata": {
        "id": "uFzXKvEcnRSb"
      },
      "source": [
        "### Are Under Curve of Naive Bayes"
      ]
    },
    {
      "cell_type": "code",
      "metadata": {
        "colab": {
          "base_uri": "https://localhost:8080/"
        },
        "id": "5Gb0-TLPnRSb",
        "outputId": "96bfd189-6104-4741-d9f5-cf1f3bd4f44a"
      },
      "source": [
        "auc = roc_auc_score(y_test, knn_pred)\n",
        "print('ROC AUC SCORE of Naive Bayes is',auc)"
      ],
      "execution_count": null,
      "outputs": [
        {
          "output_type": "stream",
          "name": "stdout",
          "text": [
            "ROC AUC SCORE of Naive Bayes is 0.6444444444444446\n"
          ]
        }
      ]
    },
    {
      "cell_type": "code",
      "metadata": {
        "colab": {
          "base_uri": "https://localhost:8080/"
        },
        "id": "56SkWwASnRSe",
        "outputId": "895565fe-6ea1-4dfc-fbf3-3291d75acc2f"
      },
      "source": [
        "fpr, tpr, thresholds = roc_curve(y_test, nb_pred)\n",
        "plt.plot(fpr, tpr, color='orange', label='ROC')\n",
        "plt.plot([0,1],[0,1], color='darkblue', linestyle='--',label='ROC curve (area = %0.2f)'% auc)\n",
        "plt.xlabel('False Positive Rate')\n",
        "plt.ylabel('True Positive Rate')\n",
        "plt.title('Receiver Operating Characteristic (ROC) Curve of Naive Bayes')\n",
        "plt.legend()\n",
        "plt.show()"
      ],
      "execution_count": null,
      "outputs": [
        {
          "output_type": "display_data",
          "data": {
            "image/png": "[encoded data removed]",
            "text/plain": [
              "<Figure size 432x288 with 1 Axes>"
            ]
          },
          "metadata": {
            "needs_background": "light"
          }
        }
      ]
    },
    {
      "cell_type": "markdown",
      "metadata": {
        "id": "GFY-UO94mD7B"
      },
      "source": [
        "### Confusion Matrix of SVM"
      ]
    },
    {
      "cell_type": "code",
      "metadata": {
        "colab": {
          "base_uri": "https://localhost:8080/"
        },
        "id": "KjPLrXy6mKCK",
        "outputId": "679e1e11-06db-48c5-9191-afaef142a5dc"
      },
      "source": [
        "sns.heatmap(confusion_matrix(y_test,sv_pred),annot=True,fmt='d')"
      ],
      "execution_count": null,
      "outputs": [
        {
          "output_type": "execute_result",
          "data": {
            "text/plain": [
              "<matplotlib.axes._subplots.AxesSubplot at 0x7fc0a82ccdd0>"
            ]
          },
          "metadata": {},
          "execution_count": 69
        },
        {
          "output_type": "display_data",
          "data": {
            "image/png": "[encoded data removed]",
            "text/plain": [
              "<Figure size 432x288 with 2 Axes>"
            ]
          },
          "metadata": {
            "needs_background": "light"
          }
        }
      ]
    },
    {
      "cell_type": "code",
      "metadata": {
        "colab": {
          "base_uri": "https://localhost:8080/"
        },
        "id": "ZvQfImr5mRHX",
        "outputId": "fc2435fc-cdb7-4086-a242-cd85c6338ee0"
      },
      "source": [
        "cm = confusion_matrix(y_test, sv_pred)\n",
        "\n",
        "print('TN - True Negative {}'.format(cm[0,0]))\n",
        "print('TN - False Positive {}'.format(cm[0,1]))\n",
        "print('TN - False Negative {}'.format(cm[1,0]))\n",
        "print('TN - True Positive {}'.format(cm[1,1]))\n",
        "print('Accuracy Rate: {}'.format(np.divide(np.sum([cm[0,0],cm[1,1]]),np.sum(cm))*100))\n",
        "print('Misclassification Rate: {}'.format(np.divide(np.sum([cm[0,1],cm[1,0]]),np.sum(cm))*100))"
      ],
      "execution_count": null,
      "outputs": [
        {
          "output_type": "stream",
          "name": "stdout",
          "text": [
            "TN - True Negative 81\n",
            "TN - False Positive 18\n",
            "TN - False Negative 24\n",
            "TN - True Positive 31\n",
            "Accuracy Rate: 72.72727272727273\n",
            "Misclassification Rate: 27.27272727272727\n"
          ]
        }
      ]
    },
    {
      "cell_type": "code",
      "metadata": {
        "colab": {
          "base_uri": "https://localhost:8080/"
        },
        "id": "ltmu08F8mRMh",
        "outputId": "38813403-2a08-444e-9c53-34b0912d2430"
      },
      "source": [
        "print('Classification Report of SVM : \\n', classification_report(y_test,sv_pred,digits=4))"
      ],
      "execution_count": null,
      "outputs": [
        {
          "output_type": "stream",
          "name": "stdout",
          "text": [
            "Classification Report of SVM : \n",
            "               precision    recall  f1-score   support\n",
            "\n",
            "           0     0.7714    0.8182    0.7941        99\n",
            "           1     0.6327    0.5636    0.5962        55\n",
            "\n",
            "    accuracy                         0.7273       154\n",
            "   macro avg     0.7020    0.6909    0.6951       154\n",
            "weighted avg     0.7219    0.7273    0.7234       154\n",
            "\n"
          ]
        }
      ]
    },
    {
      "cell_type": "markdown",
      "metadata": {
        "id": "KqWj-TLqmYOK"
      },
      "source": [
        "### Are Under Curve of SVM"
      ]
    },
    {
      "cell_type": "code",
      "metadata": {
        "colab": {
          "base_uri": "https://localhost:8080/"
        },
        "id": "eojIqybomRRg",
        "outputId": "9bd85b98-a964-43f3-fd0b-d49ebaf2089d"
      },
      "source": [
        "auc = roc_auc_score(y_test, sv_pred)\n",
        "print('ROC AUC SCORE of SVM is',auc)"
      ],
      "execution_count": null,
      "outputs": [
        {
          "output_type": "stream",
          "name": "stdout",
          "text": [
            "ROC AUC SCORE of SVM is 0.6909090909090908\n"
          ]
        }
      ]
    },
    {
      "cell_type": "code",
      "metadata": {
        "colab": {
          "base_uri": "https://localhost:8080/"
        },
        "id": "xQYd2bRCmd3b",
        "outputId": "d4ee9330-feee-4e87-d854-bcb4ec4c4a28"
      },
      "source": [
        "fpr, tpr, thresholds = roc_curve(y_test, sv_pred)\n",
        "plt.plot(fpr, tpr, color='orange', label='ROC')\n",
        "plt.plot([0,1],[0,1], color='darkblue', linestyle='--',label='ROC curve (area = %0.2f)'% auc)\n",
        "plt.xlabel('False Positive Rate')\n",
        "plt.ylabel('True Positive Rate')\n",
        "plt.title('Receiver Operating Characteristic (ROC) Curve of SVM')\n",
        "plt.legend()\n",
        "plt.show()"
      ],
      "execution_count": null,
      "outputs": [
        {
          "output_type": "display_data",
          "data": {
            "image/png": "[encoded data removed]",
            "text/plain": [
              "<Figure size 432x288 with 1 Axes>"
            ]
          },
          "metadata": {
            "needs_background": "light"
          }
        }
      ]
    },
    {
      "cell_type": "markdown",
      "metadata": {
        "id": "WEnS2rKun7Qr"
      },
      "source": [
        "### Confusion Matrix of Decesion Tree"
      ]
    },
    {
      "cell_type": "code",
      "metadata": {
        "colab": {
          "base_uri": "https://localhost:8080/"
        },
        "id": "PEOuZmVWn7Qt",
        "outputId": "2178b4ed-2b2e-43ed-9a77-b888fb4c33f5"
      },
      "source": [
        "sns.heatmap(confusion_matrix(y_test,dt_pred),annot=True,fmt='d')"
      ],
      "execution_count": null,
      "outputs": [
        {
          "output_type": "execute_result",
          "data": {
            "text/plain": [
              "<matplotlib.axes._subplots.AxesSubplot at 0x7fc0a8165990>"
            ]
          },
          "metadata": {},
          "execution_count": 74
        },
        {
          "output_type": "display_data",
          "data": {
            "image/png": "[encoded data removed]",
            "text/plain": [
              "<Figure size 432x288 with 2 Axes>"
            ]
          },
          "metadata": {
            "needs_background": "light"
          }
        }
      ]
    },
    {
      "cell_type": "code",
      "metadata": {
        "colab": {
          "base_uri": "https://localhost:8080/"
        },
        "id": "sZpR7xJqn7Qv",
        "outputId": "ba2ee668-02f8-441e-a28d-72ed68b68920"
      },
      "source": [
        "cm = confusion_matrix(y_test, dt_pred)\n",
        "\n",
        "print('TN - True Negative {}'.format(cm[0,0]))\n",
        "print('TN - False Positive {}'.format(cm[0,1]))\n",
        "print('TN - False Negative {}'.format(cm[1,0]))\n",
        "print('TN - True Positive {}'.format(cm[1,1]))\n",
        "print('Accuracy Rate: {}'.format(np.divide(np.sum([cm[0,0],cm[1,1]]),np.sum(cm))*100))\n",
        "print('Misclassification Rate: {}'.format(np.divide(np.sum([cm[0,1],cm[1,0]]),np.sum(cm))*100))"
      ],
      "execution_count": null,
      "outputs": [
        {
          "output_type": "stream",
          "name": "stdout",
          "text": [
            "TN - True Negative 77\n",
            "TN - False Positive 22\n",
            "TN - False Negative 16\n",
            "TN - True Positive 39\n",
            "Accuracy Rate: 75.32467532467533\n",
            "Misclassification Rate: 24.675324675324674\n"
          ]
        }
      ]
    },
    {
      "cell_type": "code",
      "metadata": {
        "colab": {
          "base_uri": "https://localhost:8080/"
        },
        "id": "1nLmJqlbn7Qx",
        "outputId": "ca4be9eb-7731-4195-b145-d3c8c62ffc56"
      },
      "source": [
        "print('Classification Report of Decesion Tree: \\n', classification_report(y_test,dt_pred,digits=4))"
      ],
      "execution_count": null,
      "outputs": [
        {
          "output_type": "stream",
          "name": "stdout",
          "text": [
            "Classification Report of Decesion Tree: \n",
            "               precision    recall  f1-score   support\n",
            "\n",
            "           0     0.8280    0.7778    0.8021        99\n",
            "           1     0.6393    0.7091    0.6724        55\n",
            "\n",
            "    accuracy                         0.7532       154\n",
            "   macro avg     0.7337    0.7434    0.7372       154\n",
            "weighted avg     0.7606    0.7532    0.7558       154\n",
            "\n"
          ]
        }
      ]
    },
    {
      "cell_type": "markdown",
      "metadata": {
        "id": "y5aQNwQPn7Q0"
      },
      "source": [
        "### Are Under Curve of Decesion Tree"
      ]
    },
    {
      "cell_type": "code",
      "metadata": {
        "colab": {
          "base_uri": "https://localhost:8080/"
        },
        "id": "zLC9aKxFn7Q2",
        "outputId": "12eeda92-fa55-495c-87e8-547e7b455b02"
      },
      "source": [
        "auc = roc_auc_score(y_test, dt_pred)\n",
        "print('ROC AUC SCORE of Decesion Tree is',auc)"
      ],
      "execution_count": null,
      "outputs": [
        {
          "output_type": "stream",
          "name": "stdout",
          "text": [
            "ROC AUC SCORE of Decesion Tree is 0.7434343434343433\n"
          ]
        }
      ]
    },
    {
      "cell_type": "code",
      "metadata": {
        "colab": {
          "base_uri": "https://localhost:8080/"
        },
        "id": "9CuVm5Fhn7Q4",
        "outputId": "8bc538b8-fb16-4f9e-8084-131bfa2bfe60"
      },
      "source": [
        "fpr, tpr, thresholds = roc_curve(y_test, dt_pred)\n",
        "plt.plot(fpr, tpr, color='orange', label='ROC')\n",
        "plt.plot([0,1],[0,1], color='darkblue', linestyle='--',label='ROC curve (area = %0.2f)'% auc)\n",
        "plt.xlabel('False Positive Rate')\n",
        "plt.ylabel('True Positive Rate')\n",
        "plt.title('Receiver Operating Characteristic (ROC) Curve of Decesion Tree')\n",
        "plt.legend()\n",
        "plt.show()"
      ],
      "execution_count": null,
      "outputs": [
        {
          "output_type": "display_data",
          "data": {
            "image/png": "[encoded data removed]",
            "text/plain": [
              "<Figure size 432x288 with 1 Axes>"
            ]
          },
          "metadata": {
            "needs_background": "light"
          }
        }
      ]
    },
    {
      "cell_type": "markdown",
      "metadata": {
        "id": "eZW2I5JAo4km"
      },
      "source": [
        "### Confusion Matrix of Random Forest"
      ]
    },
    {
      "cell_type": "code",
      "metadata": {
        "colab": {
          "base_uri": "https://localhost:8080/"
        },
        "id": "G_JAwV2_o4kp",
        "outputId": "d0eda991-f7af-4741-e36e-8db352019c1e"
      },
      "source": [
        "sns.heatmap(confusion_matrix(y_test,rf_pred),annot=True,fmt='d')"
      ],
      "execution_count": null,
      "outputs": [
        {
          "output_type": "execute_result",
          "data": {
            "text/plain": [
              "<matplotlib.axes._subplots.AxesSubplot at 0x7fc0a8575510>"
            ]
          },
          "metadata": {},
          "execution_count": 79
        },
        {
          "output_type": "display_data",
          "data": {
            "image/png": "[encoded data removed]",
            "text/plain": [
              "<Figure size 432x288 with 2 Axes>"
            ]
          },
          "metadata": {
            "needs_background": "light"
          }
        }
      ]
    },
    {
      "cell_type": "code",
      "metadata": {
        "colab": {
          "base_uri": "https://localhost:8080/"
        },
        "id": "IuE1S9fYo4kr",
        "outputId": "1dd36d75-88ed-4f96-f73c-23991ec08df8"
      },
      "source": [
        "cm = confusion_matrix(y_test, rf_pred)\n",
        "\n",
        "print('TN - True Negative {}'.format(cm[0,0]))\n",
        "print('TN - False Positive {}'.format(cm[0,1]))\n",
        "print('TN - False Negative {}'.format(cm[1,0]))\n",
        "print('TN - True Positive {}'.format(cm[1,1]))\n",
        "print('Accuracy Rate: {}'.format(np.divide(np.sum([cm[0,0],cm[1,1]]),np.sum(cm))*100))\n",
        "print('Misclassification Rate: {}'.format(np.divide(np.sum([cm[0,1],cm[1,0]]),np.sum(cm))*100))"
      ],
      "execution_count": null,
      "outputs": [
        {
          "output_type": "stream",
          "name": "stdout",
          "text": [
            "TN - True Negative 82\n",
            "TN - False Positive 17\n",
            "TN - False Negative 20\n",
            "TN - True Positive 35\n",
            "Accuracy Rate: 75.97402597402598\n",
            "Misclassification Rate: 24.025974025974026\n"
          ]
        }
      ]
    },
    {
      "cell_type": "code",
      "metadata": {
        "colab": {
          "base_uri": "https://localhost:8080/"
        },
        "id": "_EOK5CrVo4kt",
        "outputId": "70a1c4d7-71e7-4284-8486-8d15cab5270e"
      },
      "source": [
        "print('Classification Report of Random Forest: \\n', classification_report(y_test,rf_pred,digits=4))"
      ],
      "execution_count": null,
      "outputs": [
        {
          "output_type": "stream",
          "name": "stdout",
          "text": [
            "Classification Report of Random Forest: \n",
            "               precision    recall  f1-score   support\n",
            "\n",
            "           0     0.8039    0.8283    0.8159        99\n",
            "           1     0.6731    0.6364    0.6542        55\n",
            "\n",
            "    accuracy                         0.7597       154\n",
            "   macro avg     0.7385    0.7323    0.7351       154\n",
            "weighted avg     0.7572    0.7597    0.7582       154\n",
            "\n"
          ]
        }
      ]
    },
    {
      "cell_type": "markdown",
      "metadata": {
        "id": "TXDvuY7Ho4kw"
      },
      "source": [
        "### Are Under Curve of Random Forest"
      ]
    },
    {
      "cell_type": "code",
      "metadata": {
        "colab": {
          "base_uri": "https://localhost:8080/"
        },
        "id": "E7QLzkFlo4ky",
        "outputId": "7953b009-97e4-43a1-8478-2404a572fa64"
      },
      "source": [
        "auc = roc_auc_score(y_test, rf_pred)\n",
        "print('ROC AUC SCORE of Decesion Tree is',auc)"
      ],
      "execution_count": null,
      "outputs": [
        {
          "output_type": "stream",
          "name": "stdout",
          "text": [
            "ROC AUC SCORE of Decesion Tree is 0.7323232323232323\n"
          ]
        }
      ]
    },
    {
      "cell_type": "code",
      "metadata": {
        "colab": {
          "base_uri": "https://localhost:8080/"
        },
        "id": "H4vm6Oppo4k1",
        "outputId": "14648015-a0d9-4f81-db61-bbd2a33089fd"
      },
      "source": [
        "fpr, tpr, thresholds = roc_curve(y_test, rf_pred)\n",
        "plt.plot(fpr, tpr, color='orange', label='ROC')\n",
        "plt.plot([0,1],[0,1], color='darkblue', linestyle='--',label='ROC curve (area = %0.2f)'% auc)\n",
        "plt.xlabel('False Positive Rate')\n",
        "plt.ylabel('True Positive Rate')\n",
        "plt.title('Receiver Operating Characteristic (ROC) Curve of Random Forest')\n",
        "plt.legend()\n",
        "plt.show()"
      ],
      "execution_count": null,
      "outputs": [
        {
          "output_type": "display_data",
          "data": {
            "image/png": "[encoded data removed]",
            "text/plain": [
              "<Figure size 432x288 with 1 Axes>"
            ]
          },
          "metadata": {
            "needs_background": "light"
          }
        }
      ]
    }
  ]
}